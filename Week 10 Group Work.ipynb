{
 "cells": [
  {
   "cell_type": "markdown",
   "id": "0c00764d",
   "metadata": {},
   "source": [
    "1. Write a function that calculates the dot product manually AND a function that calculates the cross product manually. Both should accept two vectors and perform that calculation. Be sure to use try except and error handling for basic issues that might occur."
   ]
  },
  {
   "cell_type": "code",
   "execution_count": 110,
   "id": "bff02df2",
   "metadata": {},
   "outputs": [],
   "source": [
    "import numpy as np\n",
    "import pandas as pd\n",
    "from numpy import argmax"
   ]
  },
  {
   "cell_type": "code",
   "execution_count": 101,
   "id": "a043f017",
   "metadata": {},
   "outputs": [],
   "source": [
    "#a · b = ax × bx + ay × by\n",
    "\n",
    "def dot_product (a,b):\n",
    "    y = 0\n",
    "    for x in range(a.shape[0]):\n",
    "        try:\n",
    "            y += a[x]* b[x]\n",
    "        except Exception as e:\n",
    "            print(e)\n",
    "    else:\n",
    "        print(y)\n",
    "#v = np.array([1,2,3])\n",
    "#v2 = np.array([4,5,6])"
   ]
  },
  {
   "cell_type": "code",
   "execution_count": 100,
   "id": "f4282481",
   "metadata": {},
   "outputs": [
    {
     "name": "stdout",
     "output_type": "stream",
     "text": [
      "100\n"
     ]
    }
   ],
   "source": [
    "v = np.array([1,2,3,4,5])\n",
    "v2 = np.array([4,5,6,7,8])\n",
    "\n",
    "\n",
    "dot_product(v,v2)"
   ]
  },
  {
   "cell_type": "code",
   "execution_count": 102,
   "id": "544fcfcf",
   "metadata": {},
   "outputs": [
    {
     "data": {
      "text/plain": [
       "100"
      ]
     },
     "execution_count": 102,
     "metadata": {},
     "output_type": "execute_result"
    }
   ],
   "source": [
    "np.dot(v,v2)"
   ]
  },
  {
   "cell_type": "markdown",
   "id": "e989c6f7",
   "metadata": {},
   "source": [
    "2. In a markdown section in your notebook, explain what one hot encoding is and why we use it. Then, manually calculate a one hot encoding for the Belize_Airbnb_listings.csv neighborhood_group column. Note: manually means don’t use scikitlearn or keras."
   ]
  },
  {
   "cell_type": "markdown",
   "id": "f5a67e84",
   "metadata": {},
   "source": [
    "One hot encoding: One hot encoding converts categorical data variables to numerical values so they can be given to machine learning algorithms which only take in numbers as inputs. One hot encoding is useful beause it provides more nuanced predictions than if the data were categorical. In this process we convert each value to a numerical column containing 0s and one 1. The index is what is assigned the value of 1. The length of the vector is dependant on the number of values within the category. \n",
    "\n",
    "\n"
   ]
  },
  {
   "cell_type": "code",
   "execution_count": 106,
   "id": "e0cd5d59",
   "metadata": {},
   "outputs": [
    {
     "data": {
      "text/html": [
       "<div>\n",
       "<style scoped>\n",
       "    .dataframe tbody tr th:only-of-type {\n",
       "        vertical-align: middle;\n",
       "    }\n",
       "\n",
       "    .dataframe tbody tr th {\n",
       "        vertical-align: top;\n",
       "    }\n",
       "\n",
       "    .dataframe thead th {\n",
       "        text-align: right;\n",
       "    }\n",
       "</style>\n",
       "<table border=\"1\" class=\"dataframe\">\n",
       "  <thead>\n",
       "    <tr style=\"text-align: right;\">\n",
       "      <th></th>\n",
       "      <th>id</th>\n",
       "      <th>name</th>\n",
       "      <th>host_id</th>\n",
       "      <th>host_name</th>\n",
       "      <th>neighbourhood_group</th>\n",
       "      <th>neighbourhood</th>\n",
       "      <th>latitude</th>\n",
       "      <th>longitude</th>\n",
       "      <th>room_type</th>\n",
       "      <th>price</th>\n",
       "      <th>minimum_nights</th>\n",
       "      <th>number_of_reviews</th>\n",
       "      <th>last_review</th>\n",
       "      <th>reviews_per_month</th>\n",
       "      <th>calculated_host_listings_count</th>\n",
       "      <th>availability_365</th>\n",
       "    </tr>\n",
       "  </thead>\n",
       "  <tbody>\n",
       "    <tr>\n",
       "      <th>0</th>\n",
       "      <td>36666</td>\n",
       "      <td>Mo's Cozy Casa w/ veranda &amp; access to dock</td>\n",
       "      <td>157752</td>\n",
       "      <td>Monique</td>\n",
       "      <td>Belize</td>\n",
       "      <td>Belize Islands</td>\n",
       "      <td>17.74786</td>\n",
       "      <td>-88.02398</td>\n",
       "      <td>Entire home/apt</td>\n",
       "      <td>141</td>\n",
       "      <td>3</td>\n",
       "      <td>250</td>\n",
       "      <td>2/23/2021</td>\n",
       "      <td>2.00</td>\n",
       "      <td>5</td>\n",
       "      <td>225</td>\n",
       "    </tr>\n",
       "    <tr>\n",
       "      <th>1</th>\n",
       "      <td>36690</td>\n",
       "      <td>Mo's Cozy Cabana w/ comfy veranda &amp; access to ...</td>\n",
       "      <td>157752</td>\n",
       "      <td>Monique</td>\n",
       "      <td>Belize</td>\n",
       "      <td>Belize Islands</td>\n",
       "      <td>17.74832</td>\n",
       "      <td>-88.02474</td>\n",
       "      <td>Entire home/apt</td>\n",
       "      <td>71</td>\n",
       "      <td>3</td>\n",
       "      <td>316</td>\n",
       "      <td>2/19/2021</td>\n",
       "      <td>2.46</td>\n",
       "      <td>5</td>\n",
       "      <td>164</td>\n",
       "    </tr>\n",
       "    <tr>\n",
       "      <th>2</th>\n",
       "      <td>108932</td>\n",
       "      <td>Purple House eco solar  w/ ocean &amp; wildlife views</td>\n",
       "      <td>563377</td>\n",
       "      <td>Michael</td>\n",
       "      <td>Belize</td>\n",
       "      <td>Belize Islands</td>\n",
       "      <td>17.73221</td>\n",
       "      <td>-88.03824</td>\n",
       "      <td>Entire home/apt</td>\n",
       "      <td>191</td>\n",
       "      <td>2</td>\n",
       "      <td>30</td>\n",
       "      <td>3/14/2020</td>\n",
       "      <td>0.78</td>\n",
       "      <td>1</td>\n",
       "      <td>364</td>\n",
       "    </tr>\n",
       "    <tr>\n",
       "      <th>3</th>\n",
       "      <td>110483</td>\n",
       "      <td>Michelo's fuchsia suite</td>\n",
       "      <td>567809</td>\n",
       "      <td>Michel</td>\n",
       "      <td>Stann Creek</td>\n",
       "      <td>Stann Creek Mainland</td>\n",
       "      <td>16.52114</td>\n",
       "      <td>-88.36926</td>\n",
       "      <td>Hotel room</td>\n",
       "      <td>121</td>\n",
       "      <td>1</td>\n",
       "      <td>27</td>\n",
       "      <td>2/24/2020</td>\n",
       "      <td>0.29</td>\n",
       "      <td>3</td>\n",
       "      <td>331</td>\n",
       "    </tr>\n",
       "    <tr>\n",
       "      <th>4</th>\n",
       "      <td>120115</td>\n",
       "      <td>Seaside Villas Second Floor Unit  #4</td>\n",
       "      <td>604999</td>\n",
       "      <td>Bobbi</td>\n",
       "      <td>Belize</td>\n",
       "      <td>Belize Islands</td>\n",
       "      <td>17.74166</td>\n",
       "      <td>-88.02395</td>\n",
       "      <td>Entire home/apt</td>\n",
       "      <td>343</td>\n",
       "      <td>1</td>\n",
       "      <td>30</td>\n",
       "      <td>3/18/2020</td>\n",
       "      <td>0.64</td>\n",
       "      <td>22</td>\n",
       "      <td>203</td>\n",
       "    </tr>\n",
       "  </tbody>\n",
       "</table>\n",
       "</div>"
      ],
      "text/plain": [
       "       id                                               name  host_id  \\\n",
       "0   36666         Mo's Cozy Casa w/ veranda & access to dock   157752   \n",
       "1   36690  Mo's Cozy Cabana w/ comfy veranda & access to ...   157752   \n",
       "2  108932  Purple House eco solar  w/ ocean & wildlife views   563377   \n",
       "3  110483                            Michelo's fuchsia suite   567809   \n",
       "4  120115               Seaside Villas Second Floor Unit  #4   604999   \n",
       "\n",
       "  host_name neighbourhood_group         neighbourhood  latitude  longitude  \\\n",
       "0   Monique              Belize        Belize Islands  17.74786  -88.02398   \n",
       "1   Monique              Belize        Belize Islands  17.74832  -88.02474   \n",
       "2   Michael              Belize        Belize Islands  17.73221  -88.03824   \n",
       "3    Michel         Stann Creek  Stann Creek Mainland  16.52114  -88.36926   \n",
       "4     Bobbi              Belize        Belize Islands  17.74166  -88.02395   \n",
       "\n",
       "         room_type  price  minimum_nights  number_of_reviews last_review  \\\n",
       "0  Entire home/apt    141               3                250   2/23/2021   \n",
       "1  Entire home/apt     71               3                316   2/19/2021   \n",
       "2  Entire home/apt    191               2                 30   3/14/2020   \n",
       "3       Hotel room    121               1                 27   2/24/2020   \n",
       "4  Entire home/apt    343               1                 30   3/18/2020   \n",
       "\n",
       "   reviews_per_month  calculated_host_listings_count  availability_365  \n",
       "0               2.00                               5               225  \n",
       "1               2.46                               5               164  \n",
       "2               0.78                               1               364  \n",
       "3               0.29                               3               331  \n",
       "4               0.64                              22               203  "
      ]
     },
     "execution_count": 106,
     "metadata": {},
     "output_type": "execute_result"
    }
   ],
   "source": [
    "belize_listings_path = \"belize_airbnb_listings copy 2.csv\"\n",
    "belize_df = pd.read_csv(belize_listings_path)\n",
    "belize_df.head()"
   ]
  },
  {
   "cell_type": "code",
   "execution_count": 107,
   "id": "10577ba6",
   "metadata": {},
   "outputs": [
    {
     "name": "stdout",
     "output_type": "stream",
     "text": [
      "Belize         1574\n",
      "Stann Creek     577\n",
      "Cayo            505\n",
      "Corozal          65\n",
      "Toledo           47\n",
      "Orange Walk      28\n",
      "Name: neighbourhood_group, dtype: int64\n"
     ]
    }
   ],
   "source": [
    "print(belize_df['neighbourhood_group'].value_counts())"
   ]
  },
  {
   "cell_type": "code",
   "execution_count": 135,
   "id": "de107529",
   "metadata": {},
   "outputs": [
    {
     "name": "stdout",
     "output_type": "stream",
     "text": [
      "[1, 5, 12, 9, 26, 5, 27, 19, 20, 0, 14, 14, 27, 3, 18, 5, 5, 11, 27, 3, 0, 25, 15, 27, 3, 15, 18, 15, 26, 0, 12, 27, 20, 15, 12, 5, 4, 15, 27, 15, 18, 0, 14, 7, 5, 27, 23, 0, 12, 11]\n",
      "[[0, 1, 0, 0, 0, 0, 0, 0, 0, 0, 0, 0, 0, 0, 0, 0, 0, 0, 0, 0, 0, 0, 0, 0, 0, 0, 0, 0], [0, 0, 0, 0, 0, 1, 0, 0, 0, 0, 0, 0, 0, 0, 0, 0, 0, 0, 0, 0, 0, 0, 0, 0, 0, 0, 0, 0], [0, 0, 0, 0, 0, 0, 0, 0, 0, 0, 0, 0, 1, 0, 0, 0, 0, 0, 0, 0, 0, 0, 0, 0, 0, 0, 0, 0], [0, 0, 0, 0, 0, 0, 0, 0, 0, 1, 0, 0, 0, 0, 0, 0, 0, 0, 0, 0, 0, 0, 0, 0, 0, 0, 0, 0], [0, 0, 0, 0, 0, 0, 0, 0, 0, 0, 0, 0, 0, 0, 0, 0, 0, 0, 0, 0, 0, 0, 0, 0, 0, 0, 1, 0], [0, 0, 0, 0, 0, 1, 0, 0, 0, 0, 0, 0, 0, 0, 0, 0, 0, 0, 0, 0, 0, 0, 0, 0, 0, 0, 0, 0], [0, 0, 0, 0, 0, 0, 0, 0, 0, 0, 0, 0, 0, 0, 0, 0, 0, 0, 0, 0, 0, 0, 0, 0, 0, 0, 0, 1], [0, 0, 0, 0, 0, 0, 0, 0, 0, 0, 0, 0, 0, 0, 0, 0, 0, 0, 0, 1, 0, 0, 0, 0, 0, 0, 0, 0], [0, 0, 0, 0, 0, 0, 0, 0, 0, 0, 0, 0, 0, 0, 0, 0, 0, 0, 0, 0, 1, 0, 0, 0, 0, 0, 0, 0], [1, 0, 0, 0, 0, 0, 0, 0, 0, 0, 0, 0, 0, 0, 0, 0, 0, 0, 0, 0, 0, 0, 0, 0, 0, 0, 0, 0], [0, 0, 0, 0, 0, 0, 0, 0, 0, 0, 0, 0, 0, 0, 1, 0, 0, 0, 0, 0, 0, 0, 0, 0, 0, 0, 0, 0], [0, 0, 0, 0, 0, 0, 0, 0, 0, 0, 0, 0, 0, 0, 1, 0, 0, 0, 0, 0, 0, 0, 0, 0, 0, 0, 0, 0], [0, 0, 0, 0, 0, 0, 0, 0, 0, 0, 0, 0, 0, 0, 0, 0, 0, 0, 0, 0, 0, 0, 0, 0, 0, 0, 0, 1], [0, 0, 0, 1, 0, 0, 0, 0, 0, 0, 0, 0, 0, 0, 0, 0, 0, 0, 0, 0, 0, 0, 0, 0, 0, 0, 0, 0], [0, 0, 0, 0, 0, 0, 0, 0, 0, 0, 0, 0, 0, 0, 0, 0, 0, 0, 1, 0, 0, 0, 0, 0, 0, 0, 0, 0], [0, 0, 0, 0, 0, 1, 0, 0, 0, 0, 0, 0, 0, 0, 0, 0, 0, 0, 0, 0, 0, 0, 0, 0, 0, 0, 0, 0], [0, 0, 0, 0, 0, 1, 0, 0, 0, 0, 0, 0, 0, 0, 0, 0, 0, 0, 0, 0, 0, 0, 0, 0, 0, 0, 0, 0], [0, 0, 0, 0, 0, 0, 0, 0, 0, 0, 0, 1, 0, 0, 0, 0, 0, 0, 0, 0, 0, 0, 0, 0, 0, 0, 0, 0], [0, 0, 0, 0, 0, 0, 0, 0, 0, 0, 0, 0, 0, 0, 0, 0, 0, 0, 0, 0, 0, 0, 0, 0, 0, 0, 0, 1], [0, 0, 0, 1, 0, 0, 0, 0, 0, 0, 0, 0, 0, 0, 0, 0, 0, 0, 0, 0, 0, 0, 0, 0, 0, 0, 0, 0], [1, 0, 0, 0, 0, 0, 0, 0, 0, 0, 0, 0, 0, 0, 0, 0, 0, 0, 0, 0, 0, 0, 0, 0, 0, 0, 0, 0], [0, 0, 0, 0, 0, 0, 0, 0, 0, 0, 0, 0, 0, 0, 0, 0, 0, 0, 0, 0, 0, 0, 0, 0, 0, 1, 0, 0], [0, 0, 0, 0, 0, 0, 0, 0, 0, 0, 0, 0, 0, 0, 0, 1, 0, 0, 0, 0, 0, 0, 0, 0, 0, 0, 0, 0], [0, 0, 0, 0, 0, 0, 0, 0, 0, 0, 0, 0, 0, 0, 0, 0, 0, 0, 0, 0, 0, 0, 0, 0, 0, 0, 0, 1], [0, 0, 0, 1, 0, 0, 0, 0, 0, 0, 0, 0, 0, 0, 0, 0, 0, 0, 0, 0, 0, 0, 0, 0, 0, 0, 0, 0], [0, 0, 0, 0, 0, 0, 0, 0, 0, 0, 0, 0, 0, 0, 0, 1, 0, 0, 0, 0, 0, 0, 0, 0, 0, 0, 0, 0], [0, 0, 0, 0, 0, 0, 0, 0, 0, 0, 0, 0, 0, 0, 0, 0, 0, 0, 1, 0, 0, 0, 0, 0, 0, 0, 0, 0], [0, 0, 0, 0, 0, 0, 0, 0, 0, 0, 0, 0, 0, 0, 0, 1, 0, 0, 0, 0, 0, 0, 0, 0, 0, 0, 0, 0], [0, 0, 0, 0, 0, 0, 0, 0, 0, 0, 0, 0, 0, 0, 0, 0, 0, 0, 0, 0, 0, 0, 0, 0, 0, 0, 1, 0], [1, 0, 0, 0, 0, 0, 0, 0, 0, 0, 0, 0, 0, 0, 0, 0, 0, 0, 0, 0, 0, 0, 0, 0, 0, 0, 0, 0], [0, 0, 0, 0, 0, 0, 0, 0, 0, 0, 0, 0, 1, 0, 0, 0, 0, 0, 0, 0, 0, 0, 0, 0, 0, 0, 0, 0], [0, 0, 0, 0, 0, 0, 0, 0, 0, 0, 0, 0, 0, 0, 0, 0, 0, 0, 0, 0, 0, 0, 0, 0, 0, 0, 0, 1], [0, 0, 0, 0, 0, 0, 0, 0, 0, 0, 0, 0, 0, 0, 0, 0, 0, 0, 0, 0, 1, 0, 0, 0, 0, 0, 0, 0], [0, 0, 0, 0, 0, 0, 0, 0, 0, 0, 0, 0, 0, 0, 0, 1, 0, 0, 0, 0, 0, 0, 0, 0, 0, 0, 0, 0], [0, 0, 0, 0, 0, 0, 0, 0, 0, 0, 0, 0, 1, 0, 0, 0, 0, 0, 0, 0, 0, 0, 0, 0, 0, 0, 0, 0], [0, 0, 0, 0, 0, 1, 0, 0, 0, 0, 0, 0, 0, 0, 0, 0, 0, 0, 0, 0, 0, 0, 0, 0, 0, 0, 0, 0], [0, 0, 0, 0, 1, 0, 0, 0, 0, 0, 0, 0, 0, 0, 0, 0, 0, 0, 0, 0, 0, 0, 0, 0, 0, 0, 0, 0], [0, 0, 0, 0, 0, 0, 0, 0, 0, 0, 0, 0, 0, 0, 0, 1, 0, 0, 0, 0, 0, 0, 0, 0, 0, 0, 0, 0], [0, 0, 0, 0, 0, 0, 0, 0, 0, 0, 0, 0, 0, 0, 0, 0, 0, 0, 0, 0, 0, 0, 0, 0, 0, 0, 0, 1], [0, 0, 0, 0, 0, 0, 0, 0, 0, 0, 0, 0, 0, 0, 0, 1, 0, 0, 0, 0, 0, 0, 0, 0, 0, 0, 0, 0], [0, 0, 0, 0, 0, 0, 0, 0, 0, 0, 0, 0, 0, 0, 0, 0, 0, 0, 1, 0, 0, 0, 0, 0, 0, 0, 0, 0], [1, 0, 0, 0, 0, 0, 0, 0, 0, 0, 0, 0, 0, 0, 0, 0, 0, 0, 0, 0, 0, 0, 0, 0, 0, 0, 0, 0], [0, 0, 0, 0, 0, 0, 0, 0, 0, 0, 0, 0, 0, 0, 1, 0, 0, 0, 0, 0, 0, 0, 0, 0, 0, 0, 0, 0], [0, 0, 0, 0, 0, 0, 0, 1, 0, 0, 0, 0, 0, 0, 0, 0, 0, 0, 0, 0, 0, 0, 0, 0, 0, 0, 0, 0], [0, 0, 0, 0, 0, 1, 0, 0, 0, 0, 0, 0, 0, 0, 0, 0, 0, 0, 0, 0, 0, 0, 0, 0, 0, 0, 0, 0], [0, 0, 0, 0, 0, 0, 0, 0, 0, 0, 0, 0, 0, 0, 0, 0, 0, 0, 0, 0, 0, 0, 0, 0, 0, 0, 0, 1], [0, 0, 0, 0, 0, 0, 0, 0, 0, 0, 0, 0, 0, 0, 0, 0, 0, 0, 0, 0, 0, 0, 0, 1, 0, 0, 0, 0], [1, 0, 0, 0, 0, 0, 0, 0, 0, 0, 0, 0, 0, 0, 0, 0, 0, 0, 0, 0, 0, 0, 0, 0, 0, 0, 0, 0], [0, 0, 0, 0, 0, 0, 0, 0, 0, 0, 0, 0, 1, 0, 0, 0, 0, 0, 0, 0, 0, 0, 0, 0, 0, 0, 0, 0], [0, 0, 0, 0, 0, 0, 0, 0, 0, 0, 0, 1, 0, 0, 0, 0, 0, 0, 0, 0, 0, 0, 0, 0, 0, 0, 0, 0]]\n"
     ]
    }
   ],
   "source": [
    "# define input list\n",
    "places = 'Belize stann creek cayo corozal toledo orange walk'\n",
    "\n",
    "# define universe of possible input values\n",
    "alphabet = 'aBbcdefghijklmnopqrstuvwxyz '\n",
    "\n",
    "# define a mapping of chars to integers\n",
    "char_to_int = dict((c, i) for i, c in enumerate(alphabet))\n",
    "int_to_char = dict((i, c) for i, c in enumerate(alphabet))\n",
    "\n",
    "# integer encode input data\n",
    "integer_encoded = [char_to_int[char] for char in places]\n",
    "print(integer_encoded)\n",
    "\n",
    "# one hot encode\n",
    "onehot_encoded = list()\n",
    "for value in integer_encoded:\n",
    "    letter = [0 for _ in range(len(alphabet))]\n",
    "    letter[value] = 1\n",
    "    onehot_encoded.append(letter)\n",
    "print(onehot_encoded)"
   ]
  },
  {
   "cell_type": "code",
   "execution_count": 134,
   "id": "1fed5171",
   "metadata": {},
   "outputs": [
    {
     "name": "stdout",
     "output_type": "stream",
     "text": [
      "[0, 1, 2, 3, 4, 5, 6]\n",
      "[[1, 0, 0, 0, 0, 0, 0], [0, 1, 0, 0, 0, 0, 0], [0, 0, 1, 0, 0, 0, 0], [0, 0, 0, 1, 0, 0, 0], [0, 0, 0, 0, 1, 0, 0], [0, 0, 0, 0, 0, 1, 0], [0, 0, 0, 0, 0, 0, 1]]\n"
     ]
    }
   ],
   "source": [
    "# define catagorical data variables\n",
    "places = ['Belize', 'Stann', 'Creek', 'Cayo', 'Corozal', 'Toledo', 'Orange Walk']\n",
    "\n",
    "# define input values\n",
    "alphabet = ['Belize', 'Stann', 'Creek', 'Cayo', 'Corozal', 'Toledo', 'Orange Walk']\n",
    "\n",
    "# define a mapping of chars to integers\n",
    "char_to_int = dict((c, i) for i, c in enumerate(alphabet))\n",
    "int_to_char = dict((i, c) for i, c in enumerate(alphabet))\n",
    "\n",
    "# integer encode input data\n",
    "integer_encoded = [char_to_int[char] for char in places]\n",
    "print(integer_encoded)\n",
    "\n",
    "# one hot encode\n",
    "onehot_encoded = list()\n",
    "for value in integer_encoded:\n",
    "    letter = [0 for _ in range(len(alphabet))]\n",
    "    letter[value] = 1\n",
    "    onehot_encoded.append(letter)\n",
    "print(onehot_encoded)"
   ]
  }
 ],
 "metadata": {
  "kernelspec": {
   "display_name": "Python 3 (ipykernel)",
   "language": "python",
   "name": "python3"
  },
  "language_info": {
   "codemirror_mode": {
    "name": "ipython",
    "version": 3
   },
   "file_extension": ".py",
   "mimetype": "text/x-python",
   "name": "python",
   "nbconvert_exporter": "python",
   "pygments_lexer": "ipython3",
   "version": "3.9.7"
  }
 },
 "nbformat": 4,
 "nbformat_minor": 5
}
